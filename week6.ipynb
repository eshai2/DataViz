{
 "cells": [
  {
   "cell_type": "code",
   "execution_count": 3,
   "metadata": {},
   "outputs": [],
   "source": [
    "import bqplot\n",
    "import numpy as np\n",
    "import ipywidgets"
   ]
  },
  {
   "cell_type": "code",
   "execution_count": 5,
   "metadata": {},
   "outputs": [
    {
     "data": {
      "text/plain": [
       "array([ 0,  1,  2,  3,  4,  5,  6,  7,  8,  9, 10, 11, 12, 13, 14, 15, 16,\n",
       "       17, 18, 19, 20, 21, 22, 23, 24, 25, 26, 27, 28, 29, 30, 31, 32, 33,\n",
       "       34, 35, 36, 37, 38, 39, 40, 41, 42, 43, 44, 45, 46, 47, 48, 49, 50,\n",
       "       51, 52, 53, 54, 55, 56, 57, 58, 59, 60, 61, 62, 63, 64, 65, 66, 67,\n",
       "       68, 69, 70, 71, 72, 73, 74, 75, 76, 77, 78, 79, 80, 81, 82, 83, 84,\n",
       "       85, 86, 87, 88, 89, 90, 91, 92, 93, 94, 95, 96, 97, 98, 99])"
      ]
     },
     "execution_count": 5,
     "metadata": {},
     "output_type": "execute_result"
    }
   ],
   "source": [
    "x = np.arange(100)\n",
    "x"
   ]
  },
  {
   "cell_type": "code",
   "execution_count": 6,
   "metadata": {},
   "outputs": [
    {
     "data": {
      "text/plain": [
       "array([0.93107595, 0.81091192, 0.231277  , 0.54457927, 0.54443009,\n",
       "       0.23086634, 0.9547684 , 0.97164934, 0.95168809, 0.78707625,\n",
       "       0.9654286 , 0.8054021 , 0.84889582, 0.75982449, 0.877855  ,\n",
       "       0.56829788, 0.31368006, 0.91462587, 0.58206573, 0.10816541,\n",
       "       0.56608546, 0.7354498 , 0.94793979, 0.88420529, 0.41616649,\n",
       "       0.54240767, 0.43151525, 0.88263965, 0.85045471, 0.74167771,\n",
       "       0.79845646, 0.61044735, 0.86094557, 0.37929237, 0.34296355,\n",
       "       0.21920044, 0.66690556, 0.89679967, 0.61435856, 0.65654901,\n",
       "       0.54799553, 0.43873051, 0.13518   , 0.21945958, 0.62200071,\n",
       "       0.8664858 , 0.69393873, 0.46761894, 0.04427819, 0.37638156,\n",
       "       0.61104979, 0.75064175, 0.74430048, 0.84091992, 0.87286951,\n",
       "       0.58955862, 0.22374591, 0.99232045, 0.03573219, 0.66704494,\n",
       "       0.91650806, 0.25305604, 0.6911199 , 0.49690855, 0.38610362,\n",
       "       0.51756899, 0.5115901 , 0.55281967, 0.95003806, 0.47761507,\n",
       "       0.7217066 , 0.56124001, 0.66627164, 0.47318881, 0.50238938,\n",
       "       0.41281517, 0.79806989, 0.38263736, 0.86305647, 0.52299466,\n",
       "       0.52545383, 0.18256172, 0.66992817, 0.84261231, 0.28469976,\n",
       "       0.81638498, 0.23826324, 0.69985594, 0.13645459, 0.92400915,\n",
       "       0.31076339, 0.73957992, 0.09664056, 0.93354471, 0.28933144,\n",
       "       0.15731876, 0.76799075, 0.54902565, 0.0092149 , 0.2356077 ])"
      ]
     },
     "execution_count": 6,
     "metadata": {},
     "output_type": "execute_result"
    }
   ],
   "source": [
    "y = np.random.random(100)\n",
    "y"
   ]
  },
  {
   "cell_type": "code",
   "execution_count": 7,
   "metadata": {},
   "outputs": [],
   "source": [
    "x_sc = bqplot.LinearScale()\n",
    "y_sc = bqplot.LinearScale()"
   ]
  },
  {
   "cell_type": "code",
   "execution_count": 9,
   "metadata": {},
   "outputs": [
    {
     "data": {
      "text/plain": [
       "bqplot.scales.LinearScale"
      ]
     },
     "execution_count": 9,
     "metadata": {},
     "output_type": "execute_result"
    }
   ],
   "source": [
    "bqplot.LinearScale"
   ]
  },
  {
   "cell_type": "code",
   "execution_count": 10,
   "metadata": {},
   "outputs": [],
   "source": [
    "lines = bqplot.Lines(x=x, y=y, scales = {'x':x_sc, 'y':y_sc})"
   ]
  },
  {
   "cell_type": "code",
   "execution_count": 11,
   "metadata": {},
   "outputs": [
    {
     "data": {
      "text/plain": [
       "bqplot.marks.Lines"
      ]
     },
     "execution_count": 11,
     "metadata": {},
     "output_type": "execute_result"
    }
   ],
   "source": [
    "bqplot.Lines"
   ]
  },
  {
   "cell_type": "code",
   "execution_count": 19,
   "metadata": {},
   "outputs": [],
   "source": [
    "ax_x = bqplot.Axis(scale=x_sc, label='X Val')\n",
    "ax_y = bqplot.Axis(scale=y_sc, label='Y Val', orientation='vertical')"
   ]
  },
  {
   "cell_type": "code",
   "execution_count": 15,
   "metadata": {},
   "outputs": [
    {
     "data": {
      "text/plain": [
       "bqplot.axes.Axis"
      ]
     },
     "execution_count": 15,
     "metadata": {},
     "output_type": "execute_result"
    }
   ],
   "source": [
    "bqplot.Axis"
   ]
  },
  {
   "cell_type": "code",
   "execution_count": 20,
   "metadata": {},
   "outputs": [
    {
     "data": {
      "application/vnd.jupyter.widget-view+json": {
       "model_id": "9fe3882a1464468788da616b5cb85a1a",
       "version_major": 2,
       "version_minor": 0
      },
      "text/plain": [
       "Figure(axes=[Axis(label='X Val', scale=LinearScale(), side='bottom'), Axis(label='Y Val', orientation='vertica…"
      ]
     },
     "metadata": {},
     "output_type": "display_data"
    }
   ],
   "source": [
    "fig = bqplot.Figure(marks=[lines], axes=[ax_x, ax_y])\n",
    "bqplot.Figure\n",
    "fig"
   ]
  },
  {
   "cell_type": "code",
   "execution_count": 21,
   "metadata": {},
   "outputs": [
    {
     "data": {
      "application/vnd.jupyter.widget-view+json": {
       "model_id": "a58226d2a1f544cc96c94ecadc635d06",
       "version_major": 2,
       "version_minor": 0
      },
      "text/plain": [
       "Figure(axes=[Axis(label='X Val', scale=LinearScale(max=112.01908207862947, min=5.840772134462153), side='botto…"
      ]
     },
     "metadata": {},
     "output_type": "display_data"
    }
   ],
   "source": [
    "pz = bqplot.interacts.PanZoom( scales = {'x': [x_sc], 'y': [y_sc]})\n",
    "bqplot.interacts.PanZoom\n",
    "fig = bqplot.Figure(marks=[lines], axes=[ax_x, ax_y], interaction=pz)\n",
    "fig"
   ]
  },
  {
   "cell_type": "code",
   "execution_count": null,
   "metadata": {},
   "outputs": [],
   "source": []
  }
 ],
 "metadata": {
  "kernelspec": {
   "display_name": "base",
   "language": "python",
   "name": "python3"
  },
  "language_info": {
   "codemirror_mode": {
    "name": "ipython",
    "version": 3
   },
   "file_extension": ".py",
   "mimetype": "text/x-python",
   "name": "python",
   "nbconvert_exporter": "python",
   "pygments_lexer": "ipython3",
   "version": "3.9.13"
  },
  "orig_nbformat": 4
 },
 "nbformat": 4,
 "nbformat_minor": 2
}
